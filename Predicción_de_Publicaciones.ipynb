{
  "nbformat": 4,
  "nbformat_minor": 0,
  "metadata": {
    "colab": {
      "name": "Predicción de Publicaciones.ipynb",
      "provenance": [],
      "collapsed_sections": [],
      "toc_visible": true,
      "authorship_tag": "ABX9TyPvFUokSOZV6dwy1hfl2G5Y",
      "include_colab_link": true
    },
    "kernelspec": {
      "name": "python3",
      "display_name": "Python 3"
    },
    "language_info": {
      "name": "python"
    }
  },
  "cells": [
    {
      "cell_type": "markdown",
      "metadata": {
        "id": "view-in-github",
        "colab_type": "text"
      },
      "source": [
        "<a href=\"https://colab.research.google.com/github/L-Abel-RT/Publicaciones/blob/main/Predicci%C3%B3n_de_Publicaciones.ipynb\" target=\"_parent\"><img src=\"https://colab.research.google.com/assets/colab-badge.svg\" alt=\"Open In Colab\"/></a>"
      ]
    },
    {
      "cell_type": "markdown",
      "source": [
        "El siguiente proyecto tiene como objetivo predecir el comportamiento de las publicaciones de los docentes del departamento de Matemática-Física de la Facultad de Educación en Ciencias Naturales y Exactas de la Universidad de Ciencias Pedagógicas \"Enrique José Varona\". Para ello se analizan los datos proporcionados durante el período de tiempo 2015-2019 (tiempo prepandemia) y se entrena un modelo de regresión lineal. La Facultad de Educación en Ciencias Naturales y Exactas de la Universidad de Ciencias Pedagógicas \"Enrique José Varona\" está estructurada por dos departamentos docentes-carrera: Departamento de Ciencias Naturales, que atienede las carreras de Biología, Química y Geografía, y el Departamento de Matemática-Física, que atiene las carreras de Matemática y Física; y el Centro de Estudios de Educación Ambiental (CEEA-GEA)."
      ],
      "metadata": {
        "id": "hiwThKfJys35"
      }
    },
    {
      "cell_type": "code",
      "source": [
        "import numpy as np\n",
        "import pandas as pd\n",
        "import matplotlib as mpl\n",
        "import matplotlib.pyplot as plt\n",
        "import seaborn as sns"
      ],
      "metadata": {
        "id": "ADz_f_XGyxVn"
      },
      "execution_count": null,
      "outputs": []
    },
    {
      "cell_type": "markdown",
      "source": [
        "En esta celda se importan la librerías de Python a usar en el proyecto."
      ],
      "metadata": {
        "id": "1tFHommty4Ci"
      }
    },
    {
      "cell_type": "code",
      "source": [
        "! git clone https://github.com/L-Abel-RT/Publicaciones.git"
      ],
      "metadata": {
        "colab": {
          "base_uri": "https://localhost:8080/"
        },
        "id": "br-LRQ9qy43p",
        "outputId": "21bdcbfb-18b0-474e-f6c8-7559e2cbfaad"
      },
      "execution_count": null,
      "outputs": [
        {
          "output_type": "stream",
          "name": "stdout",
          "text": [
            "Cloning into 'Publicaciones'...\n",
            "remote: Enumerating objects: 31, done.\u001b[K\n",
            "remote: Counting objects: 100% (31/31), done.\u001b[K\n",
            "remote: Compressing objects: 100% (29/29), done.\u001b[K\n",
            "remote: Total 31 (delta 13), reused 0 (delta 0), pack-reused 0\u001b[K\n",
            "Unpacking objects: 100% (31/31), done.\n"
          ]
        }
      ]
    },
    {
      "cell_type": "markdown",
      "source": [
        "Para poder ser visto desde cualquier cuenta de Google Colab, se carga un archivo con formato xlsx desde la cuenta en Github del autor. El archivo, nombrado 'Publicaciones.xlsx', es un libro de Excel con 6 hojas, en donde, en las cinco primeras, aparecen las publicaciones realizadas por todos los profesores e investigadores de la Facultad de Educación en Ciencias Naturales y Exactas en el período de tiempo 2015-2019 y en la última hoja aparece el listado de los profesores del departamento de Matemática-Física con sus datos relevantes, el de interés para el proyecto. Los datos significativos de los profesores del departamento de Matemática-Física son el nombre, el sexo, la categoría docente y el grado científico."
      ],
      "metadata": {
        "id": "yfS2Zi01y_1g"
      }
    },
    {
      "cell_type": "code",
      "source": [
        "data15 = pd.read_excel('/content/Publicaciones/Publicaciones.xlsx', sheet_name='2015')\n",
        "data16 = pd.read_excel('/content/Publicaciones/Publicaciones.xlsx', sheet_name='2016')\n",
        "data17 = pd.read_excel('/content/Publicaciones/Publicaciones.xlsx', sheet_name='2017')\n",
        "data18 = pd.read_excel('/content/Publicaciones/Publicaciones.xlsx', sheet_name='2018')\n",
        "data19 = pd.read_excel('/content/Publicaciones/Publicaciones.xlsx', sheet_name='2019')\n",
        "datalist = pd.read_excel('/content/Publicaciones/Publicaciones.xlsx', sheet_name='Listado')"
      ],
      "metadata": {
        "id": "pi_jThsizAm1"
      },
      "execution_count": null,
      "outputs": []
    },
    {
      "cell_type": "markdown",
      "source": [
        "Se cargan los datos de cada hoja del documento en varios DataFrame de Pandas para facilitar su manipulación."
      ],
      "metadata": {
        "id": "GpDC22k-zPHA"
      }
    },
    {
      "cell_type": "code",
      "source": [
        "data15 = data15.drop(columns=['Id'])\n",
        "data16 = data16.drop(columns=['Id'])\n",
        "data17 = data17.drop(columns=['Id'])\n",
        "data18 = data18.drop(columns=['Id'])\n",
        "data19 = data19.drop(columns=['Id'])\n",
        "datalist = datalist.drop(columns=['Id'])"
      ],
      "metadata": {
        "id": "A0wymG9JzTpv"
      },
      "execution_count": null,
      "outputs": []
    },
    {
      "cell_type": "markdown",
      "source": [
        "\n",
        "En cada DataFrame existe una columna llamada Id, que asocia a cada fila (sin incluir la del nombre de la columna) un número natural comenzando en 1 y terminando en el número de filas. Esta columna se elimina usando la función drop en cada DataFrame, pues ya cada DataFrame al ser creados Pandas le asigna un identificador."
      ],
      "metadata": {
        "id": "b7mzOiQ9zV-3"
      }
    },
    {
      "cell_type": "code",
      "source": [
        "data15.isna().sum(), data16.isna().sum(), data17.isna().sum(), data18.isna().sum(), data19.isna().sum()"
      ],
      "metadata": {
        "colab": {
          "base_uri": "https://localhost:8080/"
        },
        "id": "y-GMcLqfziOb",
        "outputId": "c79424d3-dcd5-4309-8882-013cb89db5a7"
      },
      "execution_count": null,
      "outputs": [
        {
          "output_type": "execute_result",
          "data": {
            "text/plain": [
              "(Título    0\n",
              " Autor     5\n",
              " dtype: int64, Título    1\n",
              " Autor     0\n",
              " dtype: int64, Título    0\n",
              " Autor     2\n",
              " dtype: int64, Título    1\n",
              " Autor     0\n",
              " dtype: int64, Título    3\n",
              " Autor     1\n",
              " dtype: int64)"
            ]
          },
          "metadata": {},
          "execution_count": 5
        }
      ]
    },
    {
      "cell_type": "markdown",
      "source": [
        "Se examina cada DataFrame en busca de los valores NaN (Not a Number) que puedan existir. Como se puede observar, excepto el último DataFrame (datalist), todos los otros poseen valores NaN. Esta pequeña visualización nos permite ver que el último no es necesario modificarlo."
      ],
      "metadata": {
        "id": "ztUwsSMMzrlG"
      }
    },
    {
      "cell_type": "code",
      "source": [
        "data15.isna().sum(), data16.isna().sum(), data17.isna().sum(), data18.isna().sum(), data19.isna().sum()"
      ],
      "metadata": {
        "colab": {
          "base_uri": "https://localhost:8080/"
        },
        "id": "M8pIWba8ztbF",
        "outputId": "6eb177bf-f6ed-49c4-a878-054d6e2c826a"
      },
      "execution_count": null,
      "outputs": [
        {
          "output_type": "execute_result",
          "data": {
            "text/plain": [
              "(Título    0\n",
              " Autor     5\n",
              " dtype: int64, Título    1\n",
              " Autor     0\n",
              " dtype: int64, Título    0\n",
              " Autor     2\n",
              " dtype: int64, Título    1\n",
              " Autor     0\n",
              " dtype: int64, Título    3\n",
              " Autor     1\n",
              " dtype: int64)"
            ]
          },
          "metadata": {},
          "execution_count": 7
        }
      ]
    },
    {
      "cell_type": "markdown",
      "source": [
        "Al comprobar podemos ver que no existe ningún valor NaN en los DataFrame."
      ],
      "metadata": {
        "id": "7_h4h48GzxcM"
      }
    },
    {
      "cell_type": "code",
      "source": [
        "pub15 = data15.value_counts('Autor').to_frame()\n",
        "pub15.columns = ['2015']\n",
        "pub15.reset_index(level=0, inplace=True)\n",
        "\n",
        "pub16 = data16.value_counts('Autor').to_frame()\n",
        "pub16.columns = ['2016']\n",
        "pub16.reset_index(level=0, inplace=True)\n",
        "\n",
        "pub17 = data17.value_counts('Autor').to_frame()\n",
        "pub17.columns = ['2017']\n",
        "pub17.reset_index(level=0, inplace=True)\n",
        "\n",
        "pub18 = data18.value_counts('Autor').to_frame()\n",
        "pub18.columns = ['2018']\n",
        "pub18.reset_index(level=0, inplace=True)\n",
        "\n",
        "pub19 = data19.value_counts('Autor').to_frame()\n",
        "pub19.columns = ['2019']\n",
        "pub19.reset_index(level=0, inplace=True)"
      ],
      "metadata": {
        "id": "5cq1NGvTz0fh"
      },
      "execution_count": null,
      "outputs": []
    },
    {
      "cell_type": "markdown",
      "source": [
        "Se cuenta la cantidad de publicaciones de cada autor en cada año haciendo uso de la función value_counts( ), la cual devuelve una serie. Luego se convierte esa serie en un DataFrame con la función to_frame( ). Se le asigna el nombre del año a la columna donde aparece la cantidad de publicaciones de cada autor. Se transforman los índices del DataFrame en una columna de este con el uso de la función reset_index( ). Este procedimiento es aplicado a todos los DataFrame con datos de cantidad de publicaciones."
      ],
      "metadata": {
        "id": "RnIL93eez5NY"
      }
    },
    {
      "cell_type": "code",
      "source": [
        "pub15['MF'] = pub15.Autor.isin(datalist.Autor)\n",
        "pub16['MF'] = pub16.Autor.isin(datalist.Autor)\n",
        "pub17['MF'] = pub17.Autor.isin(datalist.Autor)\n",
        "pub18['MF'] = pub18.Autor.isin(datalist.Autor)\n",
        "pub19['MF'] = pub19.Autor.isin(datalist.Autor)"
      ],
      "metadata": {
        "id": "mboeNTQD0G9G"
      },
      "execution_count": null,
      "outputs": []
    },
    {
      "cell_type": "markdown",
      "source": [
        "Se le agrega una columna a cada DataFrame con los datos de la publicaciones de tipo booleano que será verdadera si el autor pertenece al departamento docente-carrera de Matemática-Física y falso si no, haciendo uso de la función isin( )."
      ],
      "metadata": {
        "id": "OECSL6O30JeB"
      }
    },
    {
      "cell_type": "code",
      "source": [
        "pub15 = pub15[pub15.MF == True]\n",
        "pub16 = pub16[pub16.MF == True]\n",
        "pub17 = pub17[pub17.MF == True]\n",
        "pub18 = pub18[pub18.MF == True]\n",
        "pub19 = pub19[pub19.MF == True]"
      ],
      "metadata": {
        "id": "DFZHd_5_0OMu"
      },
      "execution_count": null,
      "outputs": []
    },
    {
      "cell_type": "markdown",
      "source": [
        "Se eliminan los autores de los DataFrame de las cantidades de publicaciones que no pertenecen al departamento docente-carrera de Matemática-Física."
      ],
      "metadata": {
        "id": "RNgf0VFA2mBO"
      }
    },
    {
      "cell_type": "code",
      "source": [
        "pub15 = pub15.drop(columns=['MF'])\n",
        "pub16 = pub16.drop(columns=['MF'])\n",
        "pub17 = pub17.drop(columns=['MF'])\n",
        "pub18 = pub18.drop(columns=['MF'])\n",
        "pub19 = pub19.drop(columns=['MF'])"
      ],
      "metadata": {
        "id": "PLm-9o1I2mxh"
      },
      "execution_count": null,
      "outputs": []
    },
    {
      "cell_type": "markdown",
      "source": [
        "Se elimina la columna de pertenencia o no al departamento docente-carrera de Matemática-Física, pues solo quedan los autores que pertenecen a este"
      ],
      "metadata": {
        "id": "bOZ6txpr0R5Y"
      }
    },
    {
      "cell_type": "code",
      "source": [
        "datalist = pd.merge(datalist,pub15,how='outer')\n",
        "datalist = pd.merge(datalist,pub16,how='outer')\n",
        "datalist = pd.merge(datalist,pub17,how='outer')\n",
        "datalist = pd.merge(datalist,pub18,how='outer')\n",
        "datalist = pd.merge(datalist,pub19,how='outer')"
      ],
      "metadata": {
        "id": "W_L_WE5S1Q11"
      },
      "execution_count": null,
      "outputs": []
    },
    {
      "cell_type": "markdown",
      "source": [
        "Se hace uso de la función merge para combinar todos los DataFrames en uno solo, para entrenar el modelo de regresión lineal con este."
      ],
      "metadata": {
        "id": "0bj6fVRJ7LTZ"
      }
    },
    {
      "cell_type": "code",
      "source": [
        "datalist = datalist.drop(columns=['Autor'])\n",
        "datalist = datalist.fillna(0)\n",
        "datalist = datalist.astype({'2015':'int32', '2016':'int32', '2017':'int32', '2018':'int32', '2019':'int32',})"
      ],
      "metadata": {
        "id": "2o5RMuFX7LtP"
      },
      "execution_count": null,
      "outputs": []
    },
    {
      "cell_type": "markdown",
      "source": [
        "Se elimina la columna Autor, pues no es de relevancia en el entrenamiento del modelo, haciendo uso de la función drop( ). Se sustituyen los valores NaN de la cantidad de publicaciones por ceros, haciendo uso de la función fillna( ). Se convierten los valores tipo float de las columnas 2015, 2016, 2017, 2018 y 2019 por valores tipo int32."
      ],
      "metadata": {
        "id": "Mdr32wiWAgHU"
      }
    },
    {
      "cell_type": "markdown",
      "source": [
        "**A partir de este momento comenzara el proceso de entrenamiento del modelo de regesión lineal que se usará en el proyecto, pues los datos ya aparrece en la mejor forma para tratarlos.**"
      ],
      "metadata": {
        "id": "x2geoNUTBnw4"
      }
    },
    {
      "cell_type": "code",
      "source": [
        "training = datalist.sample(frac=0.8,random_state=0)\n",
        "test = datalist.drop(training.index)"
      ],
      "metadata": {
        "id": "hrBMBN1oGWVx"
      },
      "execution_count": null,
      "outputs": []
    },
    {
      "cell_type": "markdown",
      "source": [
        "Separamos nuestros datos en una muestra de entrenamiento, escogida aleatoriamente con la función sample( ), y una muestra de test, que corresponden a los datos que no son seleccionados para el entrenamiento."
      ],
      "metadata": {
        "id": "V0IRW9TwQuql"
      }
    },
    {
      "cell_type": "code",
      "source": [
        "etiq_training = training.pop('2019')\n",
        "etiq_test = test.pop('2019')"
      ],
      "metadata": {
        "id": "xeE2YnOGROD-"
      },
      "execution_count": null,
      "outputs": []
    },
    {
      "cell_type": "markdown",
      "source": [
        "Haciendo uso de la función pop( ), se extrae la última columna de ambas muestras, que es la variable a predecir: la cantidad de publicaciones en el último año anterior a la pandemia de Covid-19."
      ],
      "metadata": {
        "id": "uc0W0L9aSIZu"
      }
    },
    {
      "cell_type": "code",
      "source": [
        "from sklearn import linear_model\n",
        "modelo_lineal = linear_model.LinearRegression(positive=True, fit_intercept=False)\n",
        "modelo_lineal.fit(training, etiq_training)\n",
        "modelo_lasso = linear_model.Lasso(alpha=0.1)\n",
        "modelo_lasso.fit(training, etiq_training)\n",
        "modelo_elasticnet = linear_model.ElasticNet(alpha=0.1, l1_ratio=0.7)\n",
        "modelo_elasticnet.fit(training, etiq_training)"
      ],
      "metadata": {
        "colab": {
          "base_uri": "https://localhost:8080/"
        },
        "id": "-NW_6hV5SjDu",
        "outputId": "bc484219-997d-4504-a65b-f618546e689a"
      },
      "execution_count": null,
      "outputs": [
        {
          "output_type": "execute_result",
          "data": {
            "text/plain": [
              "ElasticNet(alpha=0.1, l1_ratio=0.7)"
            ]
          },
          "metadata": {},
          "execution_count": 16
        }
      ]
    },
    {
      "cell_type": "markdown",
      "source": [
        "Entrenamos tres modelos de regresión lineal haciendo uso de los datos de entrenamiento."
      ],
      "metadata": {
        "id": "JnB98FWrUCht"
      }
    },
    {
      "cell_type": "code",
      "source": [
        "Pred_lineal = modelo_lineal.predict(test)\n",
        "Pred_lasso = modelo_lasso.predict(test)\n",
        "Pred_elasticnet = modelo_elasticnet.predict(test)"
      ],
      "metadata": {
        "id": "_aPgpMtxVThb"
      },
      "execution_count": null,
      "outputs": []
    },
    {
      "cell_type": "markdown",
      "source": [
        "Haciendo uso de la función predict( ) hacemos que nuestro modelo prediga que valores debería tener la cantidad de publicaciones en el último año prepandemia."
      ],
      "metadata": {
        "id": "D3xs9ZrvVoFM"
      }
    },
    {
      "cell_type": "code",
      "source": [
        "from sklearn.metrics import mean_squared_error\n",
        "errorl = np.sqrt(mean_squared_error(etiq_test,Pred_lineal))\n",
        "print('El error porcentual del modelo lineal es: %f' % (errorl*100))\n",
        "\n",
        "errorlasso = np.sqrt(mean_squared_error(etiq_test,Pred_lineal))\n",
        "print('El error porcentual del modelo Lasso es: %f' % (errorlasso*100))\n",
        "\n",
        "errornet = np.sqrt(mean_squared_error(etiq_test,Pred_elasticnet))\n",
        "print('El error porcentual del modelo Elastic-Net es: %f' % (errornet*100))"
      ],
      "metadata": {
        "colab": {
          "base_uri": "https://localhost:8080/"
        },
        "id": "qVAeLGTMWCT4",
        "outputId": "5bb6d0d9-09ea-4087-b69b-9650e520ab75"
      },
      "execution_count": null,
      "outputs": [
        {
          "output_type": "stream",
          "name": "stdout",
          "text": [
            "El error porcentual del modelo lineal es: 260.572719\n",
            "El error porcentual del modelo Lasso es: 260.572719\n",
            "El error porcentual del modelo Elastic-Net es: 255.110083\n"
          ]
        }
      ]
    },
    {
      "cell_type": "markdown",
      "source": [
        "**Conclusiones**"
      ],
      "metadata": {
        "id": "J6-aFvY_fMxT"
      }
    },
    {
      "cell_type": "markdown",
      "source": [
        "\n",
        "Podemos concluir que los modelos usados no se corresponden con el comportamiento del fenómeno estudiado, por lo que se debe, en futuros proyectos, usar otros modelos de Machine Learning, como podrían ser las series temporales o la combinación de estas con modelos lineales o más complejos."
      ],
      "metadata": {
        "id": "B13ZryzeeiqU"
      }
    }
  ]
}