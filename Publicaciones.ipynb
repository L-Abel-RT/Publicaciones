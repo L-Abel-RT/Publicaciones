{
  "nbformat": 4,
  "nbformat_minor": 0,
  "metadata": {
    "colab": {
      "name": "Publicaciones.ipynb",
      "provenance": [],
      "authorship_tag": "ABX9TyOKYWuXyyN8UithAuU/4Sx/",
      "include_colab_link": true
    },
    "kernelspec": {
      "name": "python3",
      "display_name": "Python 3"
    },
    "language_info": {
      "name": "python"
    }
  },
  "cells": [
    {
      "cell_type": "markdown",
      "metadata": {
        "id": "view-in-github",
        "colab_type": "text"
      },
      "source": [
        "<a href=\"https://colab.research.google.com/github/L-Abel-RT/Publicaciones/blob/main/Publicaciones.ipynb\" target=\"_parent\"><img src=\"https://colab.research.google.com/assets/colab-badge.svg\" alt=\"Open In Colab\"/></a>"
      ]
    },
    {
      "cell_type": "code",
      "execution_count": null,
      "metadata": {
        "id": "tu_J561Zf-Vf"
      },
      "outputs": [],
      "source": [
        "! git clone https://github.com/L-Abel-RT/Publicaciones.git"
      ]
    },
    {
      "cell_type": "code",
      "source": [
        "import pandas as pd\n",
        "import numpy as np\n",
        "import matplotlib.pyplot as plt\n",
        "import matplotlib as mpl\n",
        "import seaborn"
      ],
      "metadata": {
        "id": "M8IHMJcIk7AE"
      },
      "execution_count": null,
      "outputs": []
    },
    {
      "cell_type": "code",
      "source": [
        "data15 = pd.read_excel('/content/Publicaciones/Publicaciones.xlsx', sheet_name=\"2015\")\n",
        "data16 = pd.read_excel('/content/Publicaciones/Publicaciones.xlsx', sheet_name=\"2016\")\n",
        "data17 = pd.read_excel('/content/Publicaciones/Publicaciones.xlsx', sheet_name=\"2017\")\n",
        "data18 = pd.read_excel('/content/Publicaciones/Publicaciones.xlsx', sheet_name=\"2018\")\n",
        "data19 = pd.read_excel('/content/Publicaciones/Publicaciones.xlsx', sheet_name=\"2019\")\n",
        "datalist = pd.read_excel('/content/Publicaciones/Publicaciones.xlsx', sheet_name=\"Listado\")"
      ],
      "metadata": {
        "id": "1ZVpndgclYhJ"
      },
      "execution_count": null,
      "outputs": []
    },
    {
      "cell_type": "code",
      "source": [
        ""
      ],
      "metadata": {
        "id": "sv_ctz9Dt18f"
      },
      "execution_count": null,
      "outputs": []
    },
    {
      "cell_type": "code",
      "source": [
        "pub15 = data15.value_counts('Autor')\n",
        "pub16 = data16.value_counts('Autor')\n",
        "pub17 = data17.value_counts('Autor')\n",
        "pub18 = data18.value_counts('Autor')\n",
        "pub19 = data19.value_counts('Autor')"
      ],
      "metadata": {
        "colab": {
          "base_uri": "https://localhost:8080/"
        },
        "id": "0QSDDI4alzgB",
        "outputId": "ad3e3718-1bc5-4f0c-8fae-050916edc89f"
      },
      "execution_count": null,
      "outputs": [
        {
          "output_type": "execute_result",
          "data": {
            "text/plain": [
              "Autor\n",
              "Amparo Osorio Abad                  12\n",
              "Rosario Chapé Paumier               10\n",
              "José Benito Rodríguez Sosa           8\n",
              "Jean Robaina Sánchez                 7\n",
              "Yordanka Castro Ramos                6\n",
              "                                    ..\n",
              "Marcos Antonio Santana Hernández     1\n",
              "Maria Isabel Delgado                 1\n",
              "Marlen Reyes                         1\n",
              "Martha Díaz                          1\n",
              "Marcos Antonio Santana               1\n",
              "Length: 69, dtype: int64"
            ]
          },
          "metadata": {},
          "execution_count": 21
        }
      ]
    }
  ]
}